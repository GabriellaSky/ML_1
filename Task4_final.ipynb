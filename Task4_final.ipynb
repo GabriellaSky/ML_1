{
 "cells": [
  {
   "cell_type": "code",
   "execution_count": 1,
   "metadata": {
    "collapsed": false
   },
   "outputs": [],
   "source": [
    "import sys\n",
    "import numpy as np\n",
    "import pandas as pd\n",
    "\n",
    "from sklearn.metrics import roc_auc_score as auc\n",
    "from sklearn.preprocessing import LabelEncoder\n",
    "import matplotlib.pyplot as plt\n",
    "%matplotlib inline\n",
    "import urllib\n",
    "import seaborn as sns"
   ]
  },
  {
   "cell_type": "code",
   "execution_count": 2,
   "metadata": {
    "collapsed": true
   },
   "outputs": [],
   "source": [
    "class Split(object):\n",
    "    def __init__(self, feature_id, threshold):\n",
    "        self.feature_id = feature_id\n",
    "        self.threshold = threshold\n",
    "        \n",
    "    def is_greater(self, example):\n",
    "        return example[self.feature_id] > self.threshold\n",
    "        \n",
    "    def get_split(self, X, y):\n",
    "        \n",
    "        X_left = []\n",
    "        y_left = []\n",
    "        X_right = []\n",
    "        y_right = []\n",
    "        \n",
    "        for i in xrange(len(X)):\n",
    "            if self.is_greater(X[i]):\n",
    "                X_right.append(X[i])\n",
    "                y_right.append(y[i])\n",
    "            else:\n",
    "                X_left.append(X[i])\n",
    "                y_left.append(y[i])\n",
    "        \n",
    "        return X_left, y_left, X_right, y_right\n",
    "\n",
    "class Node(object):\n",
    "    def __init__(self, feature_id, threshold):\n",
    "        self.feature_id = feature_id\n",
    "        self.threshold = threshold\n",
    "        self.isLeaf = False\n",
    "        self.resultTarget = None\n",
    "        self.left = None\n",
    "        self.right = None\n",
    "        \n",
    "    def toString(self, i):\n",
    "        res = \"\"\n",
    "        if self.isLeaf:\n",
    "            res = res + \" \" * i + \"Leaf. Result: \" + str(self.resultTarget) + \"\\n\"\n",
    "        else:\n",
    "            res = res + \" \" * i + \"Feature: \" + str(self.feature_id) + \"\\n\" + \" \" * i + \\\n",
    "                    \"Threshold: \" + str(self.threshold) + \"\\n\"\n",
    "            res = res + self.left.toString(i + 2)\n",
    "            res = res + self.right.toString(i + 2)\n",
    "        return res\n",
    "            \n",
    "    def predict(self, x):\n",
    "        if self.isLeaf:\n",
    "            return self.resultTarget\n",
    "        if x[self.feature_id] < self.threshold:\n",
    "            return self.left.predict(x)\n",
    "        else:\n",
    "            return self.right.predict(x)\n",
    "        \n",
    "class DecisionTreeClassifier(object):\n",
    "    \n",
    "    def __init__(self, max_depth):\n",
    "        self.root = None\n",
    "        self.max_depth = max_depth\n",
    "    \n",
    "    def toString(self):\n",
    "        return self.root.toString(1)\n",
    "    \n",
    "    def fit(self, X, y):\n",
    "        self.root = self.make_node(X, y, 0)\n",
    "        \n",
    "    def make_node(self, X, y, level):\n",
    "        if len(set(y)) == 1:\n",
    "            node = Node(None, None)\n",
    "            node.isLeaf = True\n",
    "            node.resultTarget = y[0]\n",
    "            return node\n",
    "        \n",
    "        if level == self.max_depth:\n",
    "            node = Node(None, None)\n",
    "            node.isLeaf = True\n",
    "            node.resultTarget = max(set(y), key=y.count)\n",
    "            return node\n",
    "        \n",
    "        best_g = sys.maxint\n",
    "        best_feature = -1\n",
    "        best_threshold = -1\n",
    "        X = np.array(X)\n",
    "        for i in xrange(len(X[0])):\n",
    "            tresholds = list(set(X[:, i]))\n",
    "            tresholds.sort()\n",
    "            for t_m in [(tresholds[j] + tresholds[j + 1])/2 for j in range(len(tresholds) - 1)]:\n",
    "                split = Split(i, t_m)\n",
    "                X_l, y_l, X_r, y_r = split.get_split(X, y)\n",
    "                g = self.G(X_l, y_l, X_r, y_r)\n",
    "                if g < best_g:\n",
    "                    best_g = g\n",
    "                    best_feature = i\n",
    "                    best_threshold = t_m\n",
    "                    \n",
    "        node = Node(best_feature, best_threshold)\n",
    "        \n",
    "        split = Split(best_feature, best_threshold)\n",
    "        X_l, y_l, X_r, y_r = split.get_split(X, y)\n",
    "        node.left = self.make_node(X_l, y_l, level+1)\n",
    "        node.right = self.make_node(X_r, y_r, level+1)\n",
    "        node.isLeaf = False\n",
    "        return node\n",
    "    \n",
    "                \n",
    "    def G(self, X_l, y_l, X_r, y_r):\n",
    "        self.N = len(X_l) + len(X_r)\n",
    "        return float(len(X_l)) / self.N * self.H(y_l) + float(len(X_r)) / self.N * self.H(y_r)\n",
    "        \n",
    "    def H(self, y):\n",
    "        res = 0\n",
    "        for k in set(y):\n",
    "            res = res + self.p_k(y, k) * (1 - self.p_k(y, k))\n",
    "        return res\n",
    "    \n",
    "    def p_k(self, y, k):\n",
    "        res = 0\n",
    "        for i in y:\n",
    "            if i == k:\n",
    "                res = res + 1\n",
    "        return float(res) / self.N\n",
    "        \n",
    "    def predict(self, x):\n",
    "        return self.root.predict(x)"
   ]
  },
  {
   "cell_type": "code",
   "execution_count": 3,
   "metadata": {
    "collapsed": false
   },
   "outputs": [
    {
     "name": "stdout",
     "output_type": "stream",
     "text": [
      "((1000L,), (1000L, 24L))\n"
     ]
    }
   ],
   "source": [
    "raw_data = urllib.urlopen(\"http://archive.ics.uci.edu/ml/machine-learning-databases/statlog/german/german.data-numeric\")\n",
    "credit = np.loadtxt(raw_data)\n",
    "train_set,target = credit[:,:-1], credit[:,-1:].squeeze() \n",
    "print (target.shape, train_set.shape) \n"
   ]
  },
  {
   "cell_type": "code",
   "execution_count": 4,
   "metadata": {
    "collapsed": false
   },
   "outputs": [],
   "source": [
    "X_test = []\n",
    "y_test = []\n",
    "X_fit = []\n",
    "y_fit = []\n",
    "\n",
    "for i in range(0, len(train_set), 2):\n",
    "    X_test.append(train_set[i])\n",
    "    y_test.append(target[i])\n",
    "\n",
    "for i in range(1, len(train_set), 2):\n",
    "    X_fit.append(train_set[i])\n",
    "    y_fit.append(target[i])\n"
   ]
  },
  {
   "cell_type": "code",
   "execution_count": 5,
   "metadata": {
    "collapsed": false
   },
   "outputs": [],
   "source": [
    "clf = DecisionTreeClassifier(5)\n",
    "clf.fit(X_fit, y_fit)"
   ]
  },
  {
   "cell_type": "code",
   "execution_count": 6,
   "metadata": {
    "collapsed": false
   },
   "outputs": [],
   "source": [
    "y_predict = [clf.predict(X_test[i]) for i in range(len(X_test))]"
   ]
  },
  {
   "cell_type": "code",
   "execution_count": 7,
   "metadata": {
    "collapsed": false
   },
   "outputs": [
    {
     "name": "stdout",
     "output_type": "stream",
     "text": [
      "0.726\n"
     ]
    }
   ],
   "source": [
    "quality = sum(np.array(y_predict) == np.array(y_test)) / float(len(y_test))\n",
    "\n",
    "print quality"
   ]
  },
  {
   "cell_type": "code",
   "execution_count": 8,
   "metadata": {
    "collapsed": false
   },
   "outputs": [
    {
     "data": {
      "text/plain": [
       "0.63596285892634197"
      ]
     },
     "execution_count": 8,
     "metadata": {},
     "output_type": "execute_result"
    }
   ],
   "source": [
    "lbl_enc = LabelEncoder()\n",
    "auc(lbl_enc.fit_transform(y_test), lbl_enc.fit_transform(y_predict))"
   ]
  },
  {
   "cell_type": "code",
   "execution_count": 9,
   "metadata": {
    "collapsed": false
   },
   "outputs": [],
   "source": [
    "auc_list = []\n",
    "for i in range(2,20):\n",
    "    auc_mean = []\n",
    "    for j in range(1,10):\n",
    "        clf = DecisionTreeClassifier(max_depth=i)\n",
    "        clf.fit(X_fit, y_fit)\n",
    "        y_predic = [clf.predict(X_test[i]) for i in range(len(X_test))]\n",
    "        auc_mean.append(auc(lbl_enc.fit_transform(y_test), lbl_enc.fit_transform(y_predic)))\n",
    "    auc_list.append(np.mean(auc_mean))\n"
   ]
  },
  {
   "cell_type": "code",
   "execution_count": 10,
   "metadata": {
    "collapsed": false
   },
   "outputs": [
    {
     "data": {
      "text/plain": [
       "<matplotlib.axes._subplots.AxesSubplot at 0xa967b38>"
      ]
     },
     "execution_count": 10,
     "metadata": {},
     "output_type": "execute_result"
    },
    {
     "data": {
      "image/png": "[encoded data removed]",
      "text/plain": [
       "<matplotlib.figure.Figure at 0xaa0f3c8>"
      ]
     },
     "metadata": {},
     "output_type": "display_data"
    }
   ],
   "source": [
    "pd.Series(index=range(2,20), data=auc_list).plot(color='b')"
   ]
  },
  {
   "cell_type": "code",
   "execution_count": null,
   "metadata": {
    "collapsed": true
   },
   "outputs": [],
   "source": []
  }
 ],
 "metadata": {
  "kernelspec": {
   "display_name": "Python 2",
   "language": "python",
   "name": "python2"
  },
  "language_info": {
   "codemirror_mode": {
    "name": "ipython",
    "version": 2
   },
   "file_extension": ".py",
   "mimetype": "text/x-python",
   "name": "python",
   "nbconvert_exporter": "python",
   "pygments_lexer": "ipython2",
   "version": "2.7.11"
  }
 },
 "nbformat": 4,
 "nbformat_minor": 0
}
